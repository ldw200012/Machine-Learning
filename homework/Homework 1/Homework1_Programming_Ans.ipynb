{
 "cells": [
  {
   "cell_type": "code",
   "execution_count": 9,
   "metadata": {},
   "outputs": [
    {
     "name": "stdout",
     "output_type": "stream",
     "text": [
      "1\n",
      "[-4  0  8]\n",
      "5.477225575051661\n",
      "[1.5 4.  4.5]\n",
      "[1.5 4.  4.5]\n"
     ]
    }
   ],
   "source": [
    "import numpy as np\n",
    "import math\n",
    "from scipy.linalg import lu, lu_factor, lu_solve, cho_factor, cho_solve\n",
    "\n",
    "\n",
    "a = np.array([1, 1, 0])\n",
    "b = np.array([-1, 2, 5])\n",
    "M = np.array([[2, -1, 0], [-1, 2, -1], [0, -1, 2]])\n",
    "\n",
    "#1\n",
    "print(np.inner(a, b))\n",
    "\n",
    "#2\n",
    "print(np.inner(M, b))\n",
    "\n",
    "sqr_sum = 0\n",
    "for i in b:\n",
    "    sqr_sum += i**2\n",
    "b_norm = math.sqrt(sqr_sum)\n",
    "\n",
    "#3\n",
    "print(b_norm)\n",
    "\n",
    "LU, p = lu_factor(M)\n",
    "x = lu_solve((LU, p), b)\n",
    "\n",
    "#4\n",
    "print(x)\n",
    "\n",
    "c, low = cho_factor(M)\n",
    "result_e = cho_solve((c, low), b)\n",
    "\n",
    "#5\n",
    "print(result_e)\n"
   ]
  },
  {
   "cell_type": "code",
   "execution_count": null,
   "metadata": {},
   "outputs": [],
   "source": []
  }
 ],
 "metadata": {
  "kernelspec": {
   "display_name": "Python 3",
   "language": "python",
   "name": "python3"
  },
  "language_info": {
   "codemirror_mode": {
    "name": "ipython",
    "version": 3
   },
   "file_extension": ".py",
   "mimetype": "text/x-python",
   "name": "python",
   "nbconvert_exporter": "python",
   "pygments_lexer": "ipython3",
   "version": "3.8.5"
  }
 },
 "nbformat": 4,
 "nbformat_minor": 4
}
